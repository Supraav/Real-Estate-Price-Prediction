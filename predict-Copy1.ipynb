{
 "cells": [
  {
   "cell_type": "code",
   "execution_count": 1,
   "id": "54b61e17",
   "metadata": {},
   "outputs": [],
   "source": [
    "import pandas as pd\n",
    "import numpy as np\n",
    "import matplotlib.pyplot as plt\n",
    "import seaborn as sns\n",
    "import pandas_profiling as pp\n",
    "%matplotlib inline"
   ]
  },
  {
   "cell_type": "code",
   "execution_count": 2,
   "id": "95690f36",
   "metadata": {},
   "outputs": [],
   "source": [
    "from sklearn.preprocessing import StandardScaler\n",
    "from sklearn import metrics"
   ]
  },
  {
   "cell_type": "code",
   "execution_count": 3,
   "id": "39c1b032",
   "metadata": {},
   "outputs": [],
   "source": [
    "from scipy import stats\n",
    "from sklearn.linear_model import LinearRegression, Ridge, Lasso\n",
    "from sklearn.model_selection import train_test_split\n",
    "from sklearn.ensemble import RandomForestRegressor\n",
    "from sklearn.metrics import r2_score,mean_squared_error,mean_absolute_error\n",
    "from sklearn.metrics import explained_variance_score, mean_absolute_error, mean_squared_error\n",
    "from sklearn.preprocessing import PolynomialFeatures,OneHotEncoder\n",
    "from sklearn.compose import make_column_transformer\n",
    "from sklearn.pipeline import make_pipeline\n",
    "from math import sqrt"
   ]
  },
  {
   "cell_type": "code",
   "execution_count": 4,
   "id": "059edf8f",
   "metadata": {},
   "outputs": [],
   "source": [
    "pd.set_option('display.float_format', lambda x: '%.5f' % x)"
   ]
  },
  {
   "cell_type": "code",
   "execution_count": 9,
   "id": "0eeef46b",
   "metadata": {},
   "outputs": [
    {
     "data": {
      "text/html": [
       "<div>\n",
       "<style scoped>\n",
       "    .dataframe tbody tr th:only-of-type {\n",
       "        vertical-align: middle;\n",
       "    }\n",
       "\n",
       "    .dataframe tbody tr th {\n",
       "        vertical-align: top;\n",
       "    }\n",
       "\n",
       "    .dataframe thead th {\n",
       "        text-align: right;\n",
       "    }\n",
       "</style>\n",
       "<table border=\"1\" class=\"dataframe\">\n",
       "  <thead>\n",
       "    <tr style=\"text-align: right;\">\n",
       "      <th></th>\n",
       "      <th>price</th>\n",
       "      <th>bedrooms</th>\n",
       "      <th>bathrooms</th>\n",
       "      <th>sqft_living</th>\n",
       "      <th>sqft_lot</th>\n",
       "      <th>floors</th>\n",
       "      <th>view</th>\n",
       "      <th>condition</th>\n",
       "      <th>sqft_above</th>\n",
       "      <th>sqft_basement</th>\n",
       "      <th>...</th>\n",
       "      <th>city_North Bend</th>\n",
       "      <th>city_Redmond</th>\n",
       "      <th>city_Renton</th>\n",
       "      <th>city_Seattle</th>\n",
       "      <th>city_Shoreline</th>\n",
       "      <th>city_Snoqualmie</th>\n",
       "      <th>city_Tukwila</th>\n",
       "      <th>city_Vashon</th>\n",
       "      <th>city_Woodinville</th>\n",
       "      <th>city_Yarrow Point</th>\n",
       "    </tr>\n",
       "  </thead>\n",
       "  <tbody>\n",
       "    <tr>\n",
       "      <th>0</th>\n",
       "      <td>221900</td>\n",
       "      <td>3</td>\n",
       "      <td>1</td>\n",
       "      <td>1180</td>\n",
       "      <td>5650</td>\n",
       "      <td>1</td>\n",
       "      <td>0</td>\n",
       "      <td>3</td>\n",
       "      <td>1180</td>\n",
       "      <td>0</td>\n",
       "      <td>...</td>\n",
       "      <td>0</td>\n",
       "      <td>0</td>\n",
       "      <td>0</td>\n",
       "      <td>0</td>\n",
       "      <td>0</td>\n",
       "      <td>0</td>\n",
       "      <td>1</td>\n",
       "      <td>0</td>\n",
       "      <td>0</td>\n",
       "      <td>0</td>\n",
       "    </tr>\n",
       "    <tr>\n",
       "      <th>1</th>\n",
       "      <td>538000</td>\n",
       "      <td>3</td>\n",
       "      <td>2</td>\n",
       "      <td>2570</td>\n",
       "      <td>7242</td>\n",
       "      <td>2</td>\n",
       "      <td>0</td>\n",
       "      <td>3</td>\n",
       "      <td>2170</td>\n",
       "      <td>400</td>\n",
       "      <td>...</td>\n",
       "      <td>0</td>\n",
       "      <td>0</td>\n",
       "      <td>0</td>\n",
       "      <td>1</td>\n",
       "      <td>0</td>\n",
       "      <td>0</td>\n",
       "      <td>0</td>\n",
       "      <td>0</td>\n",
       "      <td>0</td>\n",
       "      <td>0</td>\n",
       "    </tr>\n",
       "    <tr>\n",
       "      <th>2</th>\n",
       "      <td>180000</td>\n",
       "      <td>2</td>\n",
       "      <td>1</td>\n",
       "      <td>770</td>\n",
       "      <td>10000</td>\n",
       "      <td>1</td>\n",
       "      <td>0</td>\n",
       "      <td>3</td>\n",
       "      <td>770</td>\n",
       "      <td>0</td>\n",
       "      <td>...</td>\n",
       "      <td>0</td>\n",
       "      <td>0</td>\n",
       "      <td>0</td>\n",
       "      <td>0</td>\n",
       "      <td>0</td>\n",
       "      <td>0</td>\n",
       "      <td>0</td>\n",
       "      <td>0</td>\n",
       "      <td>0</td>\n",
       "      <td>0</td>\n",
       "    </tr>\n",
       "    <tr>\n",
       "      <th>3</th>\n",
       "      <td>604000</td>\n",
       "      <td>4</td>\n",
       "      <td>3</td>\n",
       "      <td>1960</td>\n",
       "      <td>5000</td>\n",
       "      <td>1</td>\n",
       "      <td>0</td>\n",
       "      <td>5</td>\n",
       "      <td>1050</td>\n",
       "      <td>910</td>\n",
       "      <td>...</td>\n",
       "      <td>0</td>\n",
       "      <td>0</td>\n",
       "      <td>0</td>\n",
       "      <td>1</td>\n",
       "      <td>0</td>\n",
       "      <td>0</td>\n",
       "      <td>0</td>\n",
       "      <td>0</td>\n",
       "      <td>0</td>\n",
       "      <td>0</td>\n",
       "    </tr>\n",
       "    <tr>\n",
       "      <th>4</th>\n",
       "      <td>510000</td>\n",
       "      <td>3</td>\n",
       "      <td>2</td>\n",
       "      <td>1680</td>\n",
       "      <td>8080</td>\n",
       "      <td>1</td>\n",
       "      <td>0</td>\n",
       "      <td>3</td>\n",
       "      <td>1680</td>\n",
       "      <td>0</td>\n",
       "      <td>...</td>\n",
       "      <td>0</td>\n",
       "      <td>1</td>\n",
       "      <td>0</td>\n",
       "      <td>0</td>\n",
       "      <td>0</td>\n",
       "      <td>0</td>\n",
       "      <td>0</td>\n",
       "      <td>0</td>\n",
       "      <td>0</td>\n",
       "      <td>0</td>\n",
       "    </tr>\n",
       "  </tbody>\n",
       "</table>\n",
       "<p>5 rows × 40 columns</p>\n",
       "</div>"
      ],
      "text/plain": [
       "    price  bedrooms  bathrooms  sqft_living  sqft_lot  floors  view  \\\n",
       "0  221900         3          1         1180      5650       1     0   \n",
       "1  538000         3          2         2570      7242       2     0   \n",
       "2  180000         2          1          770     10000       1     0   \n",
       "3  604000         4          3         1960      5000       1     0   \n",
       "4  510000         3          2         1680      8080       1     0   \n",
       "\n",
       "   condition  sqft_above  sqft_basement  ...  city_North Bend  city_Redmond  \\\n",
       "0          3        1180              0  ...                0             0   \n",
       "1          3        2170            400  ...                0             0   \n",
       "2          3         770              0  ...                0             0   \n",
       "3          5        1050            910  ...                0             0   \n",
       "4          3        1680              0  ...                0             1   \n",
       "\n",
       "   city_Renton  city_Seattle  city_Shoreline  city_Snoqualmie  city_Tukwila  \\\n",
       "0            0             0               0                0             1   \n",
       "1            0             1               0                0             0   \n",
       "2            0             0               0                0             0   \n",
       "3            0             1               0                0             0   \n",
       "4            0             0               0                0             0   \n",
       "\n",
       "   city_Vashon  city_Woodinville  city_Yarrow Point  \n",
       "0            0                 0                  0  \n",
       "1            0                 0                  0  \n",
       "2            0                 0                  0  \n",
       "3            0                 0                  0  \n",
       "4            0                 0                  0  \n",
       "\n",
       "[5 rows x 40 columns]"
      ]
     },
     "execution_count": 9,
     "metadata": {},
     "output_type": "execute_result"
    }
   ],
   "source": [
    "df=pd.read_csv('testdataset.csv')\n",
    "df.head()"
   ]
  },
  {
   "cell_type": "code",
   "execution_count": 10,
   "id": "eb6b97a7",
   "metadata": {},
   "outputs": [
    {
     "data": {
      "text/plain": [
       "Index(['price', 'bedrooms', 'bathrooms', 'sqft_living', 'sqft_lot', 'floors',\n",
       "       'view', 'condition', 'sqft_above', 'sqft_basement', 'yr_built', 'lat',\n",
       "       'long', 'houseage', 'has_underground', 'has_renovated', 'city_Bellevue',\n",
       "       'city_Black Diamond', 'city_Bothell', 'city_Carnation', 'city_Duvall',\n",
       "       'city_Enumclaw', 'city_Fall City', 'city_Federal Way', 'city_Issaquah',\n",
       "       'city_Kent', 'city_Kirkland', 'city_Maple Valley', 'city_Medina',\n",
       "       'city_Mercer Island', 'city_North Bend', 'city_Redmond', 'city_Renton',\n",
       "       'city_Seattle', 'city_Shoreline', 'city_Snoqualmie', 'city_Tukwila',\n",
       "       'city_Vashon', 'city_Woodinville', 'city_Yarrow Point'],\n",
       "      dtype='object')"
      ]
     },
     "execution_count": 10,
     "metadata": {},
     "output_type": "execute_result"
    }
   ],
   "source": [
    "df.columns"
   ]
  },
  {
   "cell_type": "code",
   "execution_count": 11,
   "id": "55902714",
   "metadata": {},
   "outputs": [
    {
     "data": {
      "text/plain": [
       "(21393, 40)"
      ]
     },
     "execution_count": 11,
     "metadata": {},
     "output_type": "execute_result"
    }
   ],
   "source": [
    "df.shape"
   ]
  },
  {
   "cell_type": "code",
   "execution_count": 12,
   "id": "bf0d8039",
   "metadata": {},
   "outputs": [
    {
     "data": {
      "text/plain": [
       "array([0, 3, 4, 2, 1], dtype=int64)"
      ]
     },
     "execution_count": 12,
     "metadata": {},
     "output_type": "execute_result"
    }
   ],
   "source": [
    "df['view'].unique()"
   ]
  },
  {
   "cell_type": "code",
   "execution_count": 13,
   "id": "e7939a55",
   "metadata": {},
   "outputs": [
    {
     "data": {
      "text/plain": [
       "price                 1.00000\n",
       "bedrooms              0.31639\n",
       "bathrooms             0.50581\n",
       "sqft_living           0.69787\n",
       "sqft_lot              0.08822\n",
       "floors                0.23782\n",
       "view                  0.39979\n",
       "condition             0.03842\n",
       "sqft_above            0.59958\n",
       "sqft_basement         0.32202\n",
       "yr_built              0.05411\n",
       "lat                   0.31178\n",
       "long                  0.01875\n",
       "houseage             -0.05379\n",
       "has_underground       0.18421\n",
       "has_renovated         0.12262\n",
       "city_Bellevue         0.14670\n",
       "city_Black Diamond   -0.02179\n",
       "city_Bothell         -0.02694\n",
       "city_Carnation       -0.01749\n",
       "city_Duvall          -0.02981\n",
       "city_Enumclaw        -0.06542\n",
       "city_Fall City        0.00823\n",
       "city_Federal Way     -0.16593\n",
       "city_Issaquah         0.08721\n",
       "city_Kent            -0.16195\n",
       "city_Kirkland         0.06616\n",
       "city_Maple Valley    -0.08004\n",
       "city_Medina           0.20376\n",
       "city_Mercer Island    0.21137\n",
       "city_North Bend      -0.02799\n",
       "city_Redmond          0.09484\n",
       "city_Renton          -0.10633\n",
       "city_Seattle          0.07362\n",
       "city_Shoreline       -0.05103\n",
       "city_Snoqualmie      -0.00277\n",
       "city_Tukwila         -0.13795\n",
       "city_Vashon          -0.01001\n",
       "city_Woodinville      0.01018\n",
       "city_Yarrow Point     0.27293\n",
       "Name: price, dtype: float64"
      ]
     },
     "execution_count": 13,
     "metadata": {},
     "output_type": "execute_result"
    }
   ],
   "source": [
    "df.corr()['price']"
   ]
  },
  {
   "cell_type": "code",
   "execution_count": 264,
   "id": "8364f247",
   "metadata": {},
   "outputs": [
    {
     "data": {
      "text/plain": [
       "1900"
      ]
     },
     "execution_count": 264,
     "metadata": {},
     "output_type": "execute_result"
    }
   ],
   "source": [
    "df['yr_built'].min()"
   ]
  },
  {
   "cell_type": "code",
   "execution_count": 14,
   "id": "4be72d26",
   "metadata": {},
   "outputs": [],
   "source": [
    "X = df.drop(['price','houseage','yr_built'], axis=1)\n",
    "y = df['price']"
   ]
  },
  {
   "cell_type": "code",
   "execution_count": 280,
   "id": "d7f54921",
   "metadata": {},
   "outputs": [
    {
     "name": "stdout",
     "output_type": "stream",
     "text": [
      "<class 'pandas.core.frame.DataFrame'>\n",
      "RangeIndex: 21393 entries, 0 to 21392\n",
      "Data columns (total 36 columns):\n",
      " #   Column              Non-Null Count  Dtype  \n",
      "---  ------              --------------  -----  \n",
      " 0   bedrooms            21393 non-null  int64  \n",
      " 1   bathrooms           21393 non-null  int64  \n",
      " 2   sqft_living         21393 non-null  int64  \n",
      " 3   sqft_lot            21393 non-null  int64  \n",
      " 4   floors              21393 non-null  int64  \n",
      " 5   view                21393 non-null  int64  \n",
      " 6   condition           21393 non-null  int64  \n",
      " 7   sqft_above          21393 non-null  int64  \n",
      " 8   lat                 21393 non-null  float64\n",
      " 9   long                21393 non-null  float64\n",
      " 10  has_underground     21393 non-null  int64  \n",
      " 11  has_renovated       21393 non-null  int64  \n",
      " 12  city_Bellevue       21393 non-null  int64  \n",
      " 13  city_Black_Diamond  21393 non-null  int64  \n",
      " 14  city_Bothell        21393 non-null  int64  \n",
      " 15  city_Carnation      21393 non-null  int64  \n",
      " 16  city_Duvall         21393 non-null  int64  \n",
      " 17  city_Enumclaw       21393 non-null  int64  \n",
      " 18  city_Fall_City      21393 non-null  int64  \n",
      " 19  city_Federal_Way    21393 non-null  int64  \n",
      " 20  city_Issaquah       21393 non-null  int64  \n",
      " 21  city_Kent           21393 non-null  int64  \n",
      " 22  city_Kirkland       21393 non-null  int64  \n",
      " 23  city_Maple_Valley   21393 non-null  int64  \n",
      " 24  city_Medina         21393 non-null  int64  \n",
      " 25  city_Mercer_Island  21393 non-null  int64  \n",
      " 26  city_North_Bend     21393 non-null  int64  \n",
      " 27  city_Redmond        21393 non-null  int64  \n",
      " 28  city_Renton         21393 non-null  int64  \n",
      " 29  city_Seattle        21393 non-null  int64  \n",
      " 30  city_Shoreline      21393 non-null  int64  \n",
      " 31  city_Snoqualmie     21393 non-null  int64  \n",
      " 32  city_Tukwila        21393 non-null  int64  \n",
      " 33  city_Vashon         21393 non-null  int64  \n",
      " 34  city_Woodinville    21393 non-null  int64  \n",
      " 35  city_Yarrow_Point   21393 non-null  int64  \n",
      "dtypes: float64(2), int64(34)\n",
      "memory usage: 5.9 MB\n"
     ]
    }
   ],
   "source": [
    "X.info()"
   ]
  },
  {
   "cell_type": "code",
   "execution_count": 77,
   "id": "165ed1ef",
   "metadata": {},
   "outputs": [],
   "source": [
    "X_train, X_test, y_train, y_test = train_test_split(X, y, test_size=0.25)"
   ]
  },
  {
   "cell_type": "code",
   "execution_count": 78,
   "id": "66d2a233",
   "metadata": {},
   "outputs": [],
   "source": [
    "# ohe=OneHotEncoder()"
   ]
  },
  {
   "cell_type": "code",
   "execution_count": 79,
   "id": "56073b4b",
   "metadata": {},
   "outputs": [],
   "source": [
    "# ohe.fit([['city']])"
   ]
  },
  {
   "cell_type": "code",
   "execution_count": 80,
   "id": "18c87506",
   "metadata": {},
   "outputs": [],
   "source": [
    "# column_trans=make_column_transformer((ohe,['city']),remainder='passthrough')"
   ]
  },
  {
   "cell_type": "markdown",
   "id": "aac0fb69",
   "metadata": {},
   "source": [
    "##### linear regression"
   ]
  },
  {
   "cell_type": "code",
   "execution_count": 81,
   "id": "c480ff1a",
   "metadata": {},
   "outputs": [],
   "source": [
    "linear_model = LinearRegression()"
   ]
  },
  {
   "cell_type": "code",
   "execution_count": 82,
   "id": "a22c64f8",
   "metadata": {},
   "outputs": [],
   "source": [
    "# pipe=make_pipeline(column_trans,linear_model)"
   ]
  },
  {
   "cell_type": "code",
   "execution_count": 83,
   "id": "c7c61f2f",
   "metadata": {},
   "outputs": [],
   "source": [
    "# pipe.fit(X_train, y_train)"
   ]
  },
  {
   "cell_type": "code",
   "execution_count": 84,
   "id": "39a22e86",
   "metadata": {},
   "outputs": [
    {
     "data": {
      "text/html": [
       "<style>#sk-container-id-7 {color: black;background-color: white;}#sk-container-id-7 pre{padding: 0;}#sk-container-id-7 div.sk-toggleable {background-color: white;}#sk-container-id-7 label.sk-toggleable__label {cursor: pointer;display: block;width: 100%;margin-bottom: 0;padding: 0.3em;box-sizing: border-box;text-align: center;}#sk-container-id-7 label.sk-toggleable__label-arrow:before {content: \"▸\";float: left;margin-right: 0.25em;color: #696969;}#sk-container-id-7 label.sk-toggleable__label-arrow:hover:before {color: black;}#sk-container-id-7 div.sk-estimator:hover label.sk-toggleable__label-arrow:before {color: black;}#sk-container-id-7 div.sk-toggleable__content {max-height: 0;max-width: 0;overflow: hidden;text-align: left;background-color: #f0f8ff;}#sk-container-id-7 div.sk-toggleable__content pre {margin: 0.2em;color: black;border-radius: 0.25em;background-color: #f0f8ff;}#sk-container-id-7 input.sk-toggleable__control:checked~div.sk-toggleable__content {max-height: 200px;max-width: 100%;overflow: auto;}#sk-container-id-7 input.sk-toggleable__control:checked~label.sk-toggleable__label-arrow:before {content: \"▾\";}#sk-container-id-7 div.sk-estimator input.sk-toggleable__control:checked~label.sk-toggleable__label {background-color: #d4ebff;}#sk-container-id-7 div.sk-label input.sk-toggleable__control:checked~label.sk-toggleable__label {background-color: #d4ebff;}#sk-container-id-7 input.sk-hidden--visually {border: 0;clip: rect(1px 1px 1px 1px);clip: rect(1px, 1px, 1px, 1px);height: 1px;margin: -1px;overflow: hidden;padding: 0;position: absolute;width: 1px;}#sk-container-id-7 div.sk-estimator {font-family: monospace;background-color: #f0f8ff;border: 1px dotted black;border-radius: 0.25em;box-sizing: border-box;margin-bottom: 0.5em;}#sk-container-id-7 div.sk-estimator:hover {background-color: #d4ebff;}#sk-container-id-7 div.sk-parallel-item::after {content: \"\";width: 100%;border-bottom: 1px solid gray;flex-grow: 1;}#sk-container-id-7 div.sk-label:hover label.sk-toggleable__label {background-color: #d4ebff;}#sk-container-id-7 div.sk-serial::before {content: \"\";position: absolute;border-left: 1px solid gray;box-sizing: border-box;top: 0;bottom: 0;left: 50%;z-index: 0;}#sk-container-id-7 div.sk-serial {display: flex;flex-direction: column;align-items: center;background-color: white;padding-right: 0.2em;padding-left: 0.2em;position: relative;}#sk-container-id-7 div.sk-item {position: relative;z-index: 1;}#sk-container-id-7 div.sk-parallel {display: flex;align-items: stretch;justify-content: center;background-color: white;position: relative;}#sk-container-id-7 div.sk-item::before, #sk-container-id-7 div.sk-parallel-item::before {content: \"\";position: absolute;border-left: 1px solid gray;box-sizing: border-box;top: 0;bottom: 0;left: 50%;z-index: -1;}#sk-container-id-7 div.sk-parallel-item {display: flex;flex-direction: column;z-index: 1;position: relative;background-color: white;}#sk-container-id-7 div.sk-parallel-item:first-child::after {align-self: flex-end;width: 50%;}#sk-container-id-7 div.sk-parallel-item:last-child::after {align-self: flex-start;width: 50%;}#sk-container-id-7 div.sk-parallel-item:only-child::after {width: 0;}#sk-container-id-7 div.sk-dashed-wrapped {border: 1px dashed gray;margin: 0 0.4em 0.5em 0.4em;box-sizing: border-box;padding-bottom: 0.4em;background-color: white;}#sk-container-id-7 div.sk-label label {font-family: monospace;font-weight: bold;display: inline-block;line-height: 1.2em;}#sk-container-id-7 div.sk-label-container {text-align: center;}#sk-container-id-7 div.sk-container {/* jupyter's `normalize.less` sets `[hidden] { display: none; }` but bootstrap.min.css set `[hidden] { display: none !important; }` so we also need the `!important` here to be able to override the default hidden behavior on the sphinx rendered scikit-learn.org. See: https://github.com/scikit-learn/scikit-learn/issues/21755 */display: inline-block !important;position: relative;}#sk-container-id-7 div.sk-text-repr-fallback {display: none;}</style><div id=\"sk-container-id-7\" class=\"sk-top-container\"><div class=\"sk-text-repr-fallback\"><pre>LinearRegression()</pre><b>In a Jupyter environment, please rerun this cell to show the HTML representation or trust the notebook. <br />On GitHub, the HTML representation is unable to render, please try loading this page with nbviewer.org.</b></div><div class=\"sk-container\" hidden><div class=\"sk-item\"><div class=\"sk-estimator sk-toggleable\"><input class=\"sk-toggleable__control sk-hidden--visually\" id=\"sk-estimator-id-7\" type=\"checkbox\" checked><label for=\"sk-estimator-id-7\" class=\"sk-toggleable__label sk-toggleable__label-arrow\">LinearRegression</label><div class=\"sk-toggleable__content\"><pre>LinearRegression()</pre></div></div></div></div></div>"
      ],
      "text/plain": [
       "LinearRegression()"
      ]
     },
     "execution_count": 84,
     "metadata": {},
     "output_type": "execute_result"
    }
   ],
   "source": [
    "linear_model.fit(X_train,y_train)"
   ]
  },
  {
   "cell_type": "code",
   "execution_count": 85,
   "id": "3aea829b",
   "metadata": {},
   "outputs": [],
   "source": [
    "linear_predictions = linear_model.predict(X_test)"
   ]
  },
  {
   "cell_type": "code",
   "execution_count": 86,
   "id": "32c13c53",
   "metadata": {},
   "outputs": [],
   "source": [
    "# linear_predictions=pipe.predict(X_test)"
   ]
  },
  {
   "cell_type": "code",
   "execution_count": 87,
   "id": "651d2b20",
   "metadata": {},
   "outputs": [
    {
     "data": {
      "text/plain": [
       "0.7557808562536669"
      ]
     },
     "execution_count": 87,
     "metadata": {},
     "output_type": "execute_result"
    }
   ],
   "source": [
    "r2_score(y_test,linear_predictions)"
   ]
  },
  {
   "cell_type": "markdown",
   "id": "37d049fe",
   "metadata": {},
   "source": [
    "##### choosing the traintest split having max r2 score"
   ]
  },
  {
   "cell_type": "code",
   "execution_count": 88,
   "id": "fa57b975",
   "metadata": {},
   "outputs": [
    {
     "name": "stdout",
     "output_type": "stream",
     "text": [
      "Linear Regression Score: 0.7561\n",
      "Linear Regression MAE: 112054.8184\n",
      "Linear Regression RMSE: 186052.0834\n"
     ]
    }
   ],
   "source": [
    "linear_score = explained_variance_score(y_test, linear_predictions)\n",
    "linear_mae = mean_absolute_error(y_test, linear_predictions)\n",
    "linear_rmse = sqrt(mean_squared_error(y_test, linear_predictions))\n",
    "\n",
    "print(\"Linear Regression Score: {:.4f}\".format(linear_score))\n",
    "print(\"Linear Regression MAE: {:.4f}\".format(linear_mae))\n",
    "print(\"Linear Regression RMSE: {:.4f}\".format(linear_rmse))\n"
   ]
  },
  {
   "cell_type": "code",
   "execution_count": 91,
   "id": "d8d7678d",
   "metadata": {},
   "outputs": [
    {
     "data": {
      "text/plain": [
       "[<matplotlib.lines.Line2D at 0x1fdde587d60>]"
      ]
     },
     "execution_count": 91,
     "metadata": {},
     "output_type": "execute_result"
    },
    {
     "data": {
      "image/png": "[encoded data removed]",
      "text/plain": [
       "<Figure size 1200x800 with 1 Axes>"
      ]
     },
     "metadata": {},
     "output_type": "display_data"
    }
   ],
   "source": [
    "plt.figure(figsize=(12, 8))\n",
    "plt.scatter(y_test, linear_predictions)\n",
    "plt.plot(y_test, y_test, color='r')\n"
   ]
  },
  {
   "cell_type": "markdown",
   "id": "dda15c41",
   "metadata": {},
   "source": [
    "##### standardiazation + linear regression"
   ]
  },
  {
   "cell_type": "code",
   "execution_count": null,
   "id": "ceea639a",
   "metadata": {},
   "outputs": [],
   "source": [
    "std=StandardScaler()\n",
    "X_train_std=std.fit_transform(X_train)\n",
    "X_test_std=std.transform(X_test)"
   ]
  },
  {
   "cell_type": "code",
   "execution_count": null,
   "id": "2b94d52f",
   "metadata": {},
   "outputs": [],
   "source": [
    "linear_model = LinearRegression()"
   ]
  },
  {
   "cell_type": "code",
   "execution_count": null,
   "id": "d854ddff",
   "metadata": {},
   "outputs": [],
   "source": [
    "linear_model.fit(X_train_std, y_train)"
   ]
  },
  {
   "cell_type": "code",
   "execution_count": null,
   "id": "78aa8ec2",
   "metadata": {},
   "outputs": [],
   "source": [
    "linear_predictions = linear_model.predict(X_test_std)"
   ]
  },
  {
   "cell_type": "code",
   "execution_count": null,
   "id": "f1e6185d",
   "metadata": {},
   "outputs": [],
   "source": [
    "linear_score = explained_variance_score(y_test, linear_predictions)\n",
    "linear_mae = mean_absolute_error(y_test, linear_predictions)\n",
    "linear_rmse = sqrt(mean_squared_error(y_test, linear_predictions))\n",
    "\n",
    "print(\"Linear Regression Score: {:.4f}\".format(linear_score))\n",
    "print(\"Linear Regression MAE: {:.4f}\".format(linear_mae))\n",
    "print(\"Linear Regression RMSE: {:.4f}\".format(linear_rmse))"
   ]
  },
  {
   "cell_type": "markdown",
   "id": "52a43ae3",
   "metadata": {},
   "source": [
    "##### random forest regression"
   ]
  },
  {
   "cell_type": "code",
   "execution_count": null,
   "id": "5242460f",
   "metadata": {},
   "outputs": [],
   "source": [
    "# X = df.drop(['price','sqft_living15','sqft_lot15','houseage'],axis=1)\n",
    "# y = df['price'].values"
   ]
  },
  {
   "cell_type": "code",
   "execution_count": null,
   "id": "da501e2f",
   "metadata": {},
   "outputs": [],
   "source": [
    "# X_train, X_test, y_train, y_test = train_test_split(X, y, test_size=0.3, random_state=42)"
   ]
  },
  {
   "cell_type": "code",
   "execution_count": null,
   "id": "13d832f8",
   "metadata": {},
   "outputs": [],
   "source": [
    "# regressor = RandomForestRegressor(n_estimators = 100, random_state = 0)"
   ]
  },
  {
   "cell_type": "code",
   "execution_count": null,
   "id": "c071b129",
   "metadata": {},
   "outputs": [],
   "source": [
    "# regressor.fit(X_train, y_train)"
   ]
  },
  {
   "cell_type": "code",
   "execution_count": null,
   "id": "0e112ed3",
   "metadata": {},
   "outputs": [],
   "source": [
    "# X.columns"
   ]
  },
  {
   "cell_type": "markdown",
   "id": "19722207",
   "metadata": {},
   "source": [
    "##### self defined input values using random forest regressor\n"
   ]
  },
  {
   "cell_type": "code",
   "execution_count": null,
   "id": "43e3c287",
   "metadata": {},
   "outputs": [],
   "source": [
    "# regressor.predict(features)"
   ]
  },
  {
   "cell_type": "markdown",
   "id": "14e28300",
   "metadata": {},
   "source": [
    "##### testing set values"
   ]
  },
  {
   "cell_type": "code",
   "execution_count": null,
   "id": "11fe5285",
   "metadata": {},
   "outputs": [],
   "source": [
    "# rand_forest_predictions = regressor.predict(X_test)"
   ]
  },
  {
   "cell_type": "code",
   "execution_count": null,
   "id": "1f2ff9fd",
   "metadata": {},
   "outputs": [],
   "source": [
    "# regressor.score(X_test,y_test)"
   ]
  },
  {
   "cell_type": "code",
   "execution_count": null,
   "id": "05063cda",
   "metadata": {},
   "outputs": [],
   "source": [
    "# rand_forest_score = explained_variance_score(y_test, rand_forest_predictions)\n",
    "# rand_forest_mae = mean_absolute_error(y_test, rand_forest_predictions)\n",
    "# rand_forest_rmse = sqrt(mean_squared_error(y_test, rand_forest_predictions))\n",
    "\n",
    "# print(\"Random Forest Score: {:.4f}\".format(rand_forest_score))\n",
    "# print(\"Random Forest MAE: {:.4f}\".format(rand_forest_mae))\n",
    "# print(\"Random Forest RMSE: {:.4f}\\n\".format(rand_forest_rmse))"
   ]
  },
  {
   "attachments": {
    "image.png": {
     "image/png": "[encoded data removed]"
    }
   },
   "cell_type": "markdown",
   "id": "910eaa8d",
   "metadata": {},
   "source": [
    "### MAE \n",
    "##### takes the average sum of the absolute differences between the actual and the predicted values. For a data point xi and its predicted value yi, n being the total number of data points in the dataset, the mean absolute error is defined as:\n",
    "\n",
    "##### MAE\n",
    "##### ![image.png](attachment:image.png)"
   ]
  },
  {
   "cell_type": "code",
   "execution_count": 91,
   "id": "cabddcfb",
   "metadata": {},
   "outputs": [
    {
     "data": {
      "text/plain": [
       "Index(['price', 'bedrooms', 'bathrooms', 'sqft_living', 'sqft_lot', 'floors',\n",
       "       'view', 'condition', 'sqft_above', 'sqft_basement', 'yr_built', 'lat',\n",
       "       'long', 'houseage', 'has_underground', 'has_renovated', 'city_Bellevue',\n",
       "       'city_Black Diamond', 'city_Bothell', 'city_Carnation', 'city_Duvall',\n",
       "       'city_Enumclaw', 'city_Fall City', 'city_Federal Way', 'city_Issaquah',\n",
       "       'city_Kent', 'city_Kirkland', 'city_Maple Valley', 'city_Medina',\n",
       "       'city_Mercer Island', 'city_North Bend', 'city_Redmond', 'city_Renton',\n",
       "       'city_Seattle', 'city_Shoreline', 'city_Snoqualmie', 'city_Tukwila',\n",
       "       'city_Vashon', 'city_Woodinville', 'city_Yarrow Point'],\n",
       "      dtype='object')"
      ]
     },
     "execution_count": 91,
     "metadata": {},
     "output_type": "execute_result"
    }
   ],
   "source": [
    "df.columns"
   ]
  },
  {
   "cell_type": "code",
   "execution_count": 89,
   "id": "959801f5",
   "metadata": {},
   "outputs": [],
   "source": [
    "import pickle"
   ]
  },
  {
   "cell_type": "code",
   "execution_count": 90,
   "id": "37453082",
   "metadata": {},
   "outputs": [],
   "source": [
    "pickle.dump(linear_model, open('test_model.pkl', 'wb'))"
   ]
  },
  {
   "cell_type": "code",
   "execution_count": 224,
   "id": "3e4e778f",
   "metadata": {
    "collapsed": true
   },
   "outputs": [
    {
     "ename": "NameError",
     "evalue": "name 'pipe' is not defined",
     "output_type": "error",
     "traceback": [
      "\u001b[1;31m---------------------------------------------------------------------------\u001b[0m",
      "\u001b[1;31mNameError\u001b[0m                                 Traceback (most recent call last)",
      "Cell \u001b[1;32mIn [224], line 1\u001b[0m\n\u001b[1;32m----> 1\u001b[0m pickle\u001b[38;5;241m.\u001b[39mdump(\u001b[43mpipe\u001b[49m, \u001b[38;5;28mopen\u001b[39m(\u001b[38;5;124m'\u001b[39m\u001b[38;5;124mpipeline_model.pkl\u001b[39m\u001b[38;5;124m'\u001b[39m, \u001b[38;5;124m'\u001b[39m\u001b[38;5;124mwb\u001b[39m\u001b[38;5;124m'\u001b[39m))\n",
      "\u001b[1;31mNameError\u001b[0m: name 'pipe' is not defined"
     ]
    }
   ],
   "source": [
    "# pickle.dump(pipe, open('pipeline_model.pkl', 'wb'))"
   ]
  },
  {
   "cell_type": "code",
   "execution_count": 95,
   "id": "605fb2fa",
   "metadata": {},
   "outputs": [],
   "source": [
    "# model=pickle.load(open('model.pkl','rb'))"
   ]
  },
  {
   "cell_type": "code",
   "execution_count": 96,
   "id": "3c00a671",
   "metadata": {},
   "outputs": [],
   "source": [
    "# pipe.predict(pd.DataFrame([[1,1,1200,6000,2,1,2,1200,47.5,-122.2,0,0,'Seattle']],columns=['bedrooms', 'bathrooms', 'sqft_living', 'sqft_lot', 'floors', 'view',\n",
    "#        'condition', 'sqft_above', 'lat', 'long', 'has_underground','has_renovated', 'city']))"
   ]
  },
  {
   "cell_type": "code",
   "execution_count": null,
   "id": "ea3d8946",
   "metadata": {},
   "outputs": [],
   "source": []
  }
 ],
 "metadata": {
  "kernelspec": {
   "display_name": "Python 3 (ipykernel)",
   "language": "python",
   "name": "python3"
  },
  "language_info": {
   "codemirror_mode": {
    "name": "ipython",
    "version": 3
   },
   "file_extension": ".py",
   "mimetype": "text/x-python",
   "name": "python",
   "nbconvert_exporter": "python",
   "pygments_lexer": "ipython3",
   "version": "3.10.9"
  },
  "vscode": {
   "interpreter": {
    "hash": "fac740d22b834c89a76d690f282cf95c6656734d466a1b62fcf70b7c4140396c"
   }
  }
 },
 "nbformat": 4,
 "nbformat_minor": 5
}
